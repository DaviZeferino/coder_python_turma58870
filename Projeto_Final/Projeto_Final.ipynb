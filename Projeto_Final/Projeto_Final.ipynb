{
 "cells": [
  {
   "cell_type": "markdown",
   "metadata": {},
   "source": [
    "## Projeto Final: "
   ]
  },
  {
   "cell_type": "markdown",
   "metadata": {},
   "source": [
    "### Bibliotecas"
   ]
  },
  {
   "cell_type": "code",
   "execution_count": 158,
   "metadata": {},
   "outputs": [],
   "source": [
    "import pandas as pd\n",
    "import numpy as np\n",
    "import sqlite3\n",
    "from datetime import datetime\n",
    "from plyer import notification \n",
    "import requests\n",
    "from tqdm import tqdm\n",
    "import matplotlib.pyplot as plt \n",
    "import seaborn as sns "
   ]
  },
  {
   "cell_type": "markdown",
   "metadata": {},
   "source": [
    "### Alerta"
   ]
  },
  {
   "cell_type": "code",
   "execution_count": 159,
   "metadata": {},
   "outputs": [],
   "source": [
    "def alerta(nivel, base, etapa, erro=\"\"):\n",
    "    '''\n",
    "        #!pip install plyer\n",
    "        Alerta de falha de carregamento de base de dados\n",
    "    '''\n",
    "    now = str(datetime.now())\n",
    "\n",
    "    msg = f\"Falha no carregamento da base {base} na etapa {etapa}.\\n{now}\\n{erro}\"\n",
    "\n",
    "\n",
    "    if nivel == 1:\n",
    "        title = 'ATENÇÃO: Alerta Baixo'\n",
    "    elif nivel == 2:\n",
    "        title = 'ATENÇÃO: Alerta Médio'\n",
    "    elif nivel  == 3:\n",
    "        title = 'ATENÇÃO: Alerta Alto'\n",
    "    else:\n",
    "        print(\"Nivel\",nivel,\"não disponível!\")\n",
    "\n",
    "    notification.notify(\n",
    "            title=title,\n",
    "            message=msg,\n",
    "            app_name='alerta',\n",
    "            timeout=10\n",
    "        )\n"
   ]
  },
  {
   "cell_type": "markdown",
   "metadata": {},
   "source": [
    "### 1 Chamada de API"
   ]
  },
  {
   "cell_type": "code",
   "execution_count": 160,
   "metadata": {},
   "outputs": [],
   "source": [
    "def chamada_API(url):\n",
    "    response = requests.get(url, verify=False)\n",
    "    \n",
    "    if response.status_code == 200:\n",
    "        data = response.json()\n",
    "        return pd.DataFrame(data)\n",
    "    else:\n",
    "        alerta(1, f\"Acesso a API, erro = {response.status_code}\",'')\n",
    "        return response.status_code\n",
    "        \n",
    "    "
   ]
  },
  {
   "cell_type": "markdown",
   "metadata": {},
   "source": [
    "##### 1.1 Bancos"
   ]
  },
  {
   "cell_type": "code",
   "execution_count": 161,
   "metadata": {},
   "outputs": [
    {
     "name": "stderr",
     "output_type": "stream",
     "text": [
      "c:\\Users\\A0045759\\AppData\\Local\\Programs\\Python\\Python312\\Lib\\site-packages\\urllib3\\connectionpool.py:1103: InsecureRequestWarning: Unverified HTTPS request is being made to host 'brasilapi.com.br'. Adding certificate verification is strongly advised. See: https://urllib3.readthedocs.io/en/latest/advanced-usage.html#tls-warnings\n",
      "  warnings.warn(\n"
     ]
    },
    {
     "data": {
      "text/html": [
       "<div>\n",
       "<style scoped>\n",
       "    .dataframe tbody tr th:only-of-type {\n",
       "        vertical-align: middle;\n",
       "    }\n",
       "\n",
       "    .dataframe tbody tr th {\n",
       "        vertical-align: top;\n",
       "    }\n",
       "\n",
       "    .dataframe thead th {\n",
       "        text-align: right;\n",
       "    }\n",
       "</style>\n",
       "<table border=\"1\" class=\"dataframe\">\n",
       "  <thead>\n",
       "    <tr style=\"text-align: right;\">\n",
       "      <th></th>\n",
       "      <th>ispb</th>\n",
       "      <th>name</th>\n",
       "      <th>code</th>\n",
       "      <th>fullName</th>\n",
       "    </tr>\n",
       "  </thead>\n",
       "  <tbody>\n",
       "    <tr>\n",
       "      <th>0</th>\n",
       "      <td>00000000</td>\n",
       "      <td>BCO DO BRASIL S.A.</td>\n",
       "      <td>1.0</td>\n",
       "      <td>Banco do Brasil S.A.</td>\n",
       "    </tr>\n",
       "    <tr>\n",
       "      <th>1</th>\n",
       "      <td>00000208</td>\n",
       "      <td>BRB - BCO DE BRASILIA S.A.</td>\n",
       "      <td>70.0</td>\n",
       "      <td>BRB - BANCO DE BRASILIA S.A.</td>\n",
       "    </tr>\n",
       "    <tr>\n",
       "      <th>2</th>\n",
       "      <td>00038121</td>\n",
       "      <td>Selic</td>\n",
       "      <td>NaN</td>\n",
       "      <td>Banco Central do Brasil - Selic</td>\n",
       "    </tr>\n",
       "    <tr>\n",
       "      <th>3</th>\n",
       "      <td>00038166</td>\n",
       "      <td>Bacen</td>\n",
       "      <td>NaN</td>\n",
       "      <td>Banco Central do Brasil</td>\n",
       "    </tr>\n",
       "    <tr>\n",
       "      <th>4</th>\n",
       "      <td>00122327</td>\n",
       "      <td>SANTINVEST S.A. - CFI</td>\n",
       "      <td>539.0</td>\n",
       "      <td>SANTINVEST S.A. - CREDITO, FINANCIAMENTO E INV...</td>\n",
       "    </tr>\n",
       "  </tbody>\n",
       "</table>\n",
       "</div>"
      ],
      "text/plain": [
       "       ispb                        name   code  \\\n",
       "0  00000000          BCO DO BRASIL S.A.    1.0   \n",
       "1  00000208  BRB - BCO DE BRASILIA S.A.   70.0   \n",
       "2  00038121                       Selic    NaN   \n",
       "3  00038166                       Bacen    NaN   \n",
       "4  00122327       SANTINVEST S.A. - CFI  539.0   \n",
       "\n",
       "                                            fullName  \n",
       "0                               Banco do Brasil S.A.  \n",
       "1                       BRB - BANCO DE BRASILIA S.A.  \n",
       "2                    Banco Central do Brasil - Selic  \n",
       "3                            Banco Central do Brasil  \n",
       "4  SANTINVEST S.A. - CREDITO, FINANCIAMENTO E INV...  "
      ]
     },
     "execution_count": 161,
     "metadata": {},
     "output_type": "execute_result"
    }
   ],
   "source": [
    "bancos = chamada_API('https://brasilapi.com.br/api/banks/v1')\n",
    "bancos.head(5)"
   ]
  },
  {
   "cell_type": "markdown",
   "metadata": {},
   "source": [
    "##### 1.2 Taxas"
   ]
  },
  {
   "cell_type": "code",
   "execution_count": 162,
   "metadata": {},
   "outputs": [
    {
     "name": "stderr",
     "output_type": "stream",
     "text": [
      "c:\\Users\\A0045759\\AppData\\Local\\Programs\\Python\\Python312\\Lib\\site-packages\\urllib3\\connectionpool.py:1103: InsecureRequestWarning: Unverified HTTPS request is being made to host 'brasilapi.com.br'. Adding certificate verification is strongly advised. See: https://urllib3.readthedocs.io/en/latest/advanced-usage.html#tls-warnings\n",
      "  warnings.warn(\n"
     ]
    },
    {
     "data": {
      "text/html": [
       "<div>\n",
       "<style scoped>\n",
       "    .dataframe tbody tr th:only-of-type {\n",
       "        vertical-align: middle;\n",
       "    }\n",
       "\n",
       "    .dataframe tbody tr th {\n",
       "        vertical-align: top;\n",
       "    }\n",
       "\n",
       "    .dataframe thead th {\n",
       "        text-align: right;\n",
       "    }\n",
       "</style>\n",
       "<table border=\"1\" class=\"dataframe\">\n",
       "  <thead>\n",
       "    <tr style=\"text-align: right;\">\n",
       "      <th></th>\n",
       "      <th>nome</th>\n",
       "      <th>valor</th>\n",
       "    </tr>\n",
       "  </thead>\n",
       "  <tbody>\n",
       "    <tr>\n",
       "      <th>0</th>\n",
       "      <td>Selic</td>\n",
       "      <td>10.50</td>\n",
       "    </tr>\n",
       "    <tr>\n",
       "      <th>1</th>\n",
       "      <td>CDI</td>\n",
       "      <td>10.40</td>\n",
       "    </tr>\n",
       "    <tr>\n",
       "      <th>2</th>\n",
       "      <td>IPCA</td>\n",
       "      <td>3.93</td>\n",
       "    </tr>\n",
       "  </tbody>\n",
       "</table>\n",
       "</div>"
      ],
      "text/plain": [
       "    nome  valor\n",
       "0  Selic  10.50\n",
       "1    CDI  10.40\n",
       "2   IPCA   3.93"
      ]
     },
     "execution_count": 162,
     "metadata": {},
     "output_type": "execute_result"
    }
   ],
   "source": [
    "taxas = chamada_API('https://brasilapi.com.br/api/taxas/v1')\n",
    "taxas"
   ]
  },
  {
   "cell_type": "markdown",
   "metadata": {},
   "source": [
    "##### 1.3: PIX"
   ]
  },
  {
   "cell_type": "code",
   "execution_count": 163,
   "metadata": {},
   "outputs": [
    {
     "name": "stderr",
     "output_type": "stream",
     "text": [
      "c:\\Users\\A0045759\\AppData\\Local\\Programs\\Python\\Python312\\Lib\\site-packages\\urllib3\\connectionpool.py:1103: InsecureRequestWarning: Unverified HTTPS request is being made to host 'brasilapi.com.br'. Adding certificate verification is strongly advised. See: https://urllib3.readthedocs.io/en/latest/advanced-usage.html#tls-warnings\n",
      "  warnings.warn(\n"
     ]
    },
    {
     "data": {
      "text/html": [
       "<div>\n",
       "<style scoped>\n",
       "    .dataframe tbody tr th:only-of-type {\n",
       "        vertical-align: middle;\n",
       "    }\n",
       "\n",
       "    .dataframe tbody tr th {\n",
       "        vertical-align: top;\n",
       "    }\n",
       "\n",
       "    .dataframe thead th {\n",
       "        text-align: right;\n",
       "    }\n",
       "</style>\n",
       "<table border=\"1\" class=\"dataframe\">\n",
       "  <thead>\n",
       "    <tr style=\"text-align: right;\">\n",
       "      <th></th>\n",
       "      <th>ispb</th>\n",
       "      <th>nome</th>\n",
       "      <th>nome_reduzido</th>\n",
       "      <th>modalidade_participacao</th>\n",
       "      <th>tipo_participacao</th>\n",
       "      <th>inicio_operacao</th>\n",
       "    </tr>\n",
       "  </thead>\n",
       "  <tbody>\n",
       "    <tr>\n",
       "      <th>821</th>\n",
       "      <td>95213211</td>\n",
       "      <td>COOPERATIVA DE CRéDITO, POUPANçA E INVESTIMENT...</td>\n",
       "      <td>COOP SICREDI CAMINHO DAS ÁGUAS RS</td>\n",
       "      <td>PDCT</td>\n",
       "      <td>IDRT</td>\n",
       "      <td>2020-11-03T09:30:00.000Z</td>\n",
       "    </tr>\n",
       "    <tr>\n",
       "      <th>822</th>\n",
       "      <td>95424891</td>\n",
       "      <td>COOPERATIVA DE CRÉDITO, POUPANÇA E INVESTIMENT...</td>\n",
       "      <td>COOP SICREDI VALE DO RIO PARDO</td>\n",
       "      <td>PDCT</td>\n",
       "      <td>IDRT</td>\n",
       "      <td>2020-11-03T09:30:00.000Z</td>\n",
       "    </tr>\n",
       "    <tr>\n",
       "      <th>823</th>\n",
       "      <td>95594941</td>\n",
       "      <td>COOPERATIVA DE CRÉDITO, POUPANÇA E INVESTIMENT...</td>\n",
       "      <td>COOP SICREDI REG CENTRO RS/MG</td>\n",
       "      <td>PDCT</td>\n",
       "      <td>IDRT</td>\n",
       "      <td>2020-11-03T09:30:00.000Z</td>\n",
       "    </tr>\n",
       "    <tr>\n",
       "      <th>824</th>\n",
       "      <td>97259253</td>\n",
       "      <td>COOPERATIVA E ECONOMIA E CRÉDITO MÚTUO DOS MÉD...</td>\n",
       "      <td>CECM MÉDICOS PLANALTO MÉDIO RS - CREDISIS/CRED...</td>\n",
       "      <td>PDCT</td>\n",
       "      <td>IDRT</td>\n",
       "      <td>2021-10-04T12:53:10.567Z</td>\n",
       "    </tr>\n",
       "    <tr>\n",
       "      <th>825</th>\n",
       "      <td>97489280</td>\n",
       "      <td>COOPERATIVA DE CRÉDITO, POUPANÇA E INVESTIMENT...</td>\n",
       "      <td>COOP SICREDI INTEGRAÇÃO BAHIA</td>\n",
       "      <td>PDCT</td>\n",
       "      <td>IDRT</td>\n",
       "      <td>2020-11-03T09:30:00.000Z</td>\n",
       "    </tr>\n",
       "  </tbody>\n",
       "</table>\n",
       "</div>"
      ],
      "text/plain": [
       "         ispb                                               nome  \\\n",
       "821  95213211  COOPERATIVA DE CRéDITO, POUPANçA E INVESTIMENT...   \n",
       "822  95424891  COOPERATIVA DE CRÉDITO, POUPANÇA E INVESTIMENT...   \n",
       "823  95594941  COOPERATIVA DE CRÉDITO, POUPANÇA E INVESTIMENT...   \n",
       "824  97259253  COOPERATIVA E ECONOMIA E CRÉDITO MÚTUO DOS MÉD...   \n",
       "825  97489280  COOPERATIVA DE CRÉDITO, POUPANÇA E INVESTIMENT...   \n",
       "\n",
       "                                         nome_reduzido  \\\n",
       "821                  COOP SICREDI CAMINHO DAS ÁGUAS RS   \n",
       "822                     COOP SICREDI VALE DO RIO PARDO   \n",
       "823                      COOP SICREDI REG CENTRO RS/MG   \n",
       "824  CECM MÉDICOS PLANALTO MÉDIO RS - CREDISIS/CRED...   \n",
       "825                      COOP SICREDI INTEGRAÇÃO BAHIA   \n",
       "\n",
       "    modalidade_participacao tipo_participacao           inicio_operacao  \n",
       "821                    PDCT              IDRT  2020-11-03T09:30:00.000Z  \n",
       "822                    PDCT              IDRT  2020-11-03T09:30:00.000Z  \n",
       "823                    PDCT              IDRT  2020-11-03T09:30:00.000Z  \n",
       "824                    PDCT              IDRT  2021-10-04T12:53:10.567Z  \n",
       "825                    PDCT              IDRT  2020-11-03T09:30:00.000Z  "
      ]
     },
     "execution_count": 163,
     "metadata": {},
     "output_type": "execute_result"
    }
   ],
   "source": [
    "pix = chamada_API('https://brasilapi.com.br/api/pix/v1/participants')\n",
    "pix.tail()"
   ]
  },
  {
   "cell_type": "code",
   "execution_count": 164,
   "metadata": {},
   "outputs": [
    {
     "name": "stdout",
     "output_type": "stream",
     "text": [
      "<class 'pandas.core.frame.DataFrame'>\n",
      "RangeIndex: 359 entries, 0 to 358\n",
      "Data columns (total 4 columns):\n",
      " #   Column    Non-Null Count  Dtype  \n",
      "---  ------    --------------  -----  \n",
      " 0   ispb      359 non-null    object \n",
      " 1   name      357 non-null    object \n",
      " 2   code      348 non-null    float64\n",
      " 3   fullName  357 non-null    object \n",
      "dtypes: float64(1), object(3)\n",
      "memory usage: 11.3+ KB\n"
     ]
    }
   ],
   "source": [
    "bancos.info()"
   ]
  },
  {
   "cell_type": "markdown",
   "metadata": {},
   "source": [
    "### 3 Banco de Dados"
   ]
  },
  {
   "cell_type": "code",
   "execution_count": 166,
   "metadata": {},
   "outputs": [],
   "source": [
    "def tabelas_bd():\n",
    "    '''\n",
    "        Retorna um dataframe com as tabelas do banco de dados.\n",
    "    '''\n",
    "    conn = sqlite3.connect('coderhouse.db')\n",
    "\n",
    "    # Executar uma consulta que retorna as informações do esquema do banco de dados\n",
    "    query = \"SELECT name FROM sqlite_master WHERE type='table'\"\n",
    "    schema = pd.read_sql_query(query, conn)\n",
    "\n",
    "    conn.close()\n",
    "\n",
    "    return schema\n",
    "def salva_bd(df, nome_tabela):\n",
    "    '''\n",
    "        Salva dataframe df na tabela nome_tabela.\n",
    "    '''\n",
    "    conn = sqlite3.connect('coderhouse.db')\n",
    "\n",
    "    # Escrever o DataFrame na tabela 'nome_tabela'\n",
    "    df.to_sql(nome_tabela, conn, if_exists='replace', index=False)\n",
    "\n",
    "    conn.close()\n",
    "\n",
    "    return \"Tabela salva com sucesso!\"\n",
    "def carrega_bd(nome_tabela):\n",
    "    '''\n",
    "        Carrega tabela nome_tabela num dataframe. \n",
    "    '''\n",
    "    conn = sqlite3.connect('coderhouse.db')\n",
    "\n",
    "    # Executar uma consulta SELECT na tabela 'produtos' e converter em um DataFrame\n",
    "    query = f\"SELECT * FROM {nome_tabela}\"\n",
    "    df = pd.read_sql(query, conn)\n",
    "\n",
    "    conn.close()\n",
    "\n",
    "    return df"
   ]
  },
  {
   "cell_type": "markdown",
   "metadata": {},
   "source": [
    "##### 3.1 Salvando tabelas no banco de dados"
   ]
  },
  {
   "cell_type": "code",
   "execution_count": 167,
   "metadata": {},
   "outputs": [
    {
     "data": {
      "text/plain": [
       "'Tabela salva com sucesso!'"
      ]
     },
     "execution_count": 167,
     "metadata": {},
     "output_type": "execute_result"
    }
   ],
   "source": [
    "salva_bd(bancos,\"bancos\")\n",
    "salva_bd(pix,\"pix\")\n",
    "salva_bd(taxas,\"taxa\")"
   ]
  },
  {
   "cell_type": "markdown",
   "metadata": {},
   "source": [
    "### 4 Transformação\n",
    "##### 4.1 Bancos"
   ]
  },
  {
   "cell_type": "code",
   "execution_count": 168,
   "metadata": {},
   "outputs": [],
   "source": [
    "def transformacao_bancos():\n",
    "    \n",
    "    try:\n",
    "        #Bancos\n",
    "        df_bancos = carrega_bd(\"bancos\")\n",
    "        df_bancos['name']       = df_bancos['name'].fillna('ND')\n",
    "        df_bancos['fullName']   = df_bancos['fullName'].fillna('ND')\n",
    "        df_bancos['code']       = df_bancos['code'].fillna(0)\n",
    "        df_bancos['name']       = df_bancos['name'].str.upper()\n",
    "        df_bancos['fullName']       = df_bancos['fullName'].str.upper()\n",
    "        \n",
    "        salva_bd(df_bancos,\"bancos\")\n",
    "        print(\"bancos salvo com sucesso!\")\n",
    "        \n",
    "    except Exception as e:\n",
    "        alerta(nivel = 2, \n",
    "               base = \"bancos\", \n",
    "               etapa = \"TRANSFORMACAO\", \n",
    "               erro=e)\n",
    "        "
   ]
  },
  {
   "cell_type": "code",
   "execution_count": 169,
   "metadata": {},
   "outputs": [
    {
     "name": "stdout",
     "output_type": "stream",
     "text": [
      "bancos salvo com sucesso!\n"
     ]
    }
   ],
   "source": [
    "transformacao_bancos()"
   ]
  },
  {
   "cell_type": "code",
   "execution_count": 170,
   "metadata": {},
   "outputs": [
    {
     "data": {
      "text/html": [
       "<div>\n",
       "<style scoped>\n",
       "    .dataframe tbody tr th:only-of-type {\n",
       "        vertical-align: middle;\n",
       "    }\n",
       "\n",
       "    .dataframe tbody tr th {\n",
       "        vertical-align: top;\n",
       "    }\n",
       "\n",
       "    .dataframe thead th {\n",
       "        text-align: right;\n",
       "    }\n",
       "</style>\n",
       "<table border=\"1\" class=\"dataframe\">\n",
       "  <thead>\n",
       "    <tr style=\"text-align: right;\">\n",
       "      <th></th>\n",
       "      <th>ispb</th>\n",
       "      <th>name</th>\n",
       "      <th>code</th>\n",
       "      <th>fullName</th>\n",
       "    </tr>\n",
       "  </thead>\n",
       "  <tbody>\n",
       "    <tr>\n",
       "      <th>0</th>\n",
       "      <td>00000000</td>\n",
       "      <td>BCO DO BRASIL S.A.</td>\n",
       "      <td>1.0</td>\n",
       "      <td>BANCO DO BRASIL S.A.</td>\n",
       "    </tr>\n",
       "    <tr>\n",
       "      <th>1</th>\n",
       "      <td>00000208</td>\n",
       "      <td>BRB - BCO DE BRASILIA S.A.</td>\n",
       "      <td>70.0</td>\n",
       "      <td>BRB - BANCO DE BRASILIA S.A.</td>\n",
       "    </tr>\n",
       "    <tr>\n",
       "      <th>2</th>\n",
       "      <td>00038121</td>\n",
       "      <td>SELIC</td>\n",
       "      <td>0.0</td>\n",
       "      <td>BANCO CENTRAL DO BRASIL - SELIC</td>\n",
       "    </tr>\n",
       "    <tr>\n",
       "      <th>3</th>\n",
       "      <td>00038166</td>\n",
       "      <td>BACEN</td>\n",
       "      <td>0.0</td>\n",
       "      <td>BANCO CENTRAL DO BRASIL</td>\n",
       "    </tr>\n",
       "    <tr>\n",
       "      <th>4</th>\n",
       "      <td>00122327</td>\n",
       "      <td>SANTINVEST S.A. - CFI</td>\n",
       "      <td>539.0</td>\n",
       "      <td>SANTINVEST S.A. - CREDITO, FINANCIAMENTO E INV...</td>\n",
       "    </tr>\n",
       "    <tr>\n",
       "      <th>...</th>\n",
       "      <td>...</td>\n",
       "      <td>...</td>\n",
       "      <td>...</td>\n",
       "      <td>...</td>\n",
       "    </tr>\n",
       "    <tr>\n",
       "      <th>354</th>\n",
       "      <td>92875780</td>\n",
       "      <td>WARREN CVMC LTDA</td>\n",
       "      <td>371.0</td>\n",
       "      <td>WARREN CORRETORA DE VALORES MOBILIÁRIOS E CÂMB...</td>\n",
       "    </tr>\n",
       "    <tr>\n",
       "      <th>355</th>\n",
       "      <td>92894922</td>\n",
       "      <td>BANCO ORIGINAL</td>\n",
       "      <td>212.0</td>\n",
       "      <td>BANCO ORIGINAL S.A.</td>\n",
       "    </tr>\n",
       "    <tr>\n",
       "      <th>356</th>\n",
       "      <td>94968518</td>\n",
       "      <td>EFX CC LTDA.</td>\n",
       "      <td>289.0</td>\n",
       "      <td>EFX CORRETORA DE CÂMBIO LTDA.</td>\n",
       "    </tr>\n",
       "    <tr>\n",
       "      <th>357</th>\n",
       "      <td></td>\n",
       "      <td>ND</td>\n",
       "      <td>0.0</td>\n",
       "      <td>ND</td>\n",
       "    </tr>\n",
       "    <tr>\n",
       "      <th>358</th>\n",
       "      <td></td>\n",
       "      <td>ND</td>\n",
       "      <td>0.0</td>\n",
       "      <td>ND</td>\n",
       "    </tr>\n",
       "  </tbody>\n",
       "</table>\n",
       "<p>359 rows × 4 columns</p>\n",
       "</div>"
      ],
      "text/plain": [
       "         ispb                        name   code  \\\n",
       "0    00000000          BCO DO BRASIL S.A.    1.0   \n",
       "1    00000208  BRB - BCO DE BRASILIA S.A.   70.0   \n",
       "2    00038121                       SELIC    0.0   \n",
       "3    00038166                       BACEN    0.0   \n",
       "4    00122327       SANTINVEST S.A. - CFI  539.0   \n",
       "..        ...                         ...    ...   \n",
       "354  92875780            WARREN CVMC LTDA  371.0   \n",
       "355  92894922              BANCO ORIGINAL  212.0   \n",
       "356  94968518                EFX CC LTDA.  289.0   \n",
       "357                                    ND    0.0   \n",
       "358                                    ND    0.0   \n",
       "\n",
       "                                              fullName  \n",
       "0                                 BANCO DO BRASIL S.A.  \n",
       "1                         BRB - BANCO DE BRASILIA S.A.  \n",
       "2                      BANCO CENTRAL DO BRASIL - SELIC  \n",
       "3                              BANCO CENTRAL DO BRASIL  \n",
       "4    SANTINVEST S.A. - CREDITO, FINANCIAMENTO E INV...  \n",
       "..                                                 ...  \n",
       "354  WARREN CORRETORA DE VALORES MOBILIÁRIOS E CÂMB...  \n",
       "355                                BANCO ORIGINAL S.A.  \n",
       "356                      EFX CORRETORA DE CÂMBIO LTDA.  \n",
       "357                                                 ND  \n",
       "358                                                 ND  \n",
       "\n",
       "[359 rows x 4 columns]"
      ]
     },
     "execution_count": 170,
     "metadata": {},
     "output_type": "execute_result"
    }
   ],
   "source": [
    "carrega_bd(\"bancos\")"
   ]
  },
  {
   "cell_type": "markdown",
   "metadata": {},
   "source": [
    "##### 4.2 Pix"
   ]
  },
  {
   "cell_type": "code",
   "execution_count": 171,
   "metadata": {},
   "outputs": [],
   "source": [
    "def transformacao_pix():\n",
    "    \n",
    "    try:\n",
    "        #Bancos\n",
    "        df_pix = carrega_bd(\"pix\")\n",
    "        df_pix['nome']              = df_pix['nome'].str.upper()\n",
    "        df_pix['inicio_operacao']   = df_pix['inicio_operacao'].str.slice(start=0, stop= 10)\n",
    "        df_pix['mes_operacao']   = df_pix['inicio_operacao'].str.slice(start=0, stop= 7).replace('-','')\n",
    "        df_pix['mes_operacao']   = df_pix['mes_operacao'].str.replace('-','')\n",
    "        salva_bd(df_pix,\"pix\")\n",
    "        print(\"Pix salvo com sucesso!\")\n",
    "        \n",
    "    except Exception as e:\n",
    "        alerta(nivel = 2, \n",
    "               base = \"pix\", \n",
    "               etapa = \"TRANSFORMACAO\", \n",
    "               erro=e)\n",
    "        "
   ]
  },
  {
   "cell_type": "code",
   "execution_count": 172,
   "metadata": {},
   "outputs": [
    {
     "name": "stdout",
     "output_type": "stream",
     "text": [
      "Pix salvo com sucesso!\n"
     ]
    }
   ],
   "source": [
    "transformacao_pix()"
   ]
  },
  {
   "cell_type": "code",
   "execution_count": 173,
   "metadata": {},
   "outputs": [
    {
     "data": {
      "text/html": [
       "<div>\n",
       "<style scoped>\n",
       "    .dataframe tbody tr th:only-of-type {\n",
       "        vertical-align: middle;\n",
       "    }\n",
       "\n",
       "    .dataframe tbody tr th {\n",
       "        vertical-align: top;\n",
       "    }\n",
       "\n",
       "    .dataframe thead th {\n",
       "        text-align: right;\n",
       "    }\n",
       "</style>\n",
       "<table border=\"1\" class=\"dataframe\">\n",
       "  <thead>\n",
       "    <tr style=\"text-align: right;\">\n",
       "      <th></th>\n",
       "      <th>ispb</th>\n",
       "      <th>nome</th>\n",
       "      <th>nome_reduzido</th>\n",
       "      <th>modalidade_participacao</th>\n",
       "      <th>tipo_participacao</th>\n",
       "      <th>inicio_operacao</th>\n",
       "      <th>mes_operacao</th>\n",
       "    </tr>\n",
       "  </thead>\n",
       "  <tbody>\n",
       "    <tr>\n",
       "      <th>0</th>\n",
       "      <td>00000000</td>\n",
       "      <td>BANCO DO BRASIL S.A.</td>\n",
       "      <td>BCO DO BRASIL S.A.</td>\n",
       "      <td>PDCT</td>\n",
       "      <td>DRCT</td>\n",
       "      <td>2020-11-03</td>\n",
       "      <td>202011</td>\n",
       "    </tr>\n",
       "    <tr>\n",
       "      <th>1</th>\n",
       "      <td>00000208</td>\n",
       "      <td>BRB - BANCO DE BRASILIA S.A.</td>\n",
       "      <td>BRB - BCO DE BRASILIA S.A.</td>\n",
       "      <td>PDCT</td>\n",
       "      <td>DRCT</td>\n",
       "      <td>2020-11-03</td>\n",
       "      <td>202011</td>\n",
       "    </tr>\n",
       "    <tr>\n",
       "      <th>2</th>\n",
       "      <td>00068987</td>\n",
       "      <td>COOPERATIVA DE CRÉDITO ARACREDI LTDA. - SICOOB...</td>\n",
       "      <td>CC ARACREDI LTDA.</td>\n",
       "      <td>PDCT</td>\n",
       "      <td>IDRT</td>\n",
       "      <td>2020-11-03</td>\n",
       "      <td>202011</td>\n",
       "    </tr>\n",
       "    <tr>\n",
       "      <th>3</th>\n",
       "      <td>00075847</td>\n",
       "      <td>COOPERATIVA DE CRÉDITO UNICRED CENTRO-SUL LTDA...</td>\n",
       "      <td>CC UNICRED CENTRO-SUL LTDA - UNICRED CENTRO-SUL</td>\n",
       "      <td>PDCT</td>\n",
       "      <td>IDRT</td>\n",
       "      <td>2020-11-03</td>\n",
       "      <td>202011</td>\n",
       "    </tr>\n",
       "    <tr>\n",
       "      <th>4</th>\n",
       "      <td>00106180</td>\n",
       "      <td>CENTRAL DAS COOPERATIVAS DE CRÉDITO DOS ESTADO...</td>\n",
       "      <td>CCC DOS EST DE MT, MS E MUN DE CACOAL/RO</td>\n",
       "      <td>PDCT</td>\n",
       "      <td>IDRT</td>\n",
       "      <td>2020-11-03</td>\n",
       "      <td>202011</td>\n",
       "    </tr>\n",
       "    <tr>\n",
       "      <th>...</th>\n",
       "      <td>...</td>\n",
       "      <td>...</td>\n",
       "      <td>...</td>\n",
       "      <td>...</td>\n",
       "      <td>...</td>\n",
       "      <td>...</td>\n",
       "      <td>...</td>\n",
       "    </tr>\n",
       "    <tr>\n",
       "      <th>821</th>\n",
       "      <td>95213211</td>\n",
       "      <td>COOPERATIVA DE CRÉDITO, POUPANÇA E INVESTIMENT...</td>\n",
       "      <td>COOP SICREDI CAMINHO DAS ÁGUAS RS</td>\n",
       "      <td>PDCT</td>\n",
       "      <td>IDRT</td>\n",
       "      <td>2020-11-03</td>\n",
       "      <td>202011</td>\n",
       "    </tr>\n",
       "    <tr>\n",
       "      <th>822</th>\n",
       "      <td>95424891</td>\n",
       "      <td>COOPERATIVA DE CRÉDITO, POUPANÇA E INVESTIMENT...</td>\n",
       "      <td>COOP SICREDI VALE DO RIO PARDO</td>\n",
       "      <td>PDCT</td>\n",
       "      <td>IDRT</td>\n",
       "      <td>2020-11-03</td>\n",
       "      <td>202011</td>\n",
       "    </tr>\n",
       "    <tr>\n",
       "      <th>823</th>\n",
       "      <td>95594941</td>\n",
       "      <td>COOPERATIVA DE CRÉDITO, POUPANÇA E INVESTIMENT...</td>\n",
       "      <td>COOP SICREDI REG CENTRO RS/MG</td>\n",
       "      <td>PDCT</td>\n",
       "      <td>IDRT</td>\n",
       "      <td>2020-11-03</td>\n",
       "      <td>202011</td>\n",
       "    </tr>\n",
       "    <tr>\n",
       "      <th>824</th>\n",
       "      <td>97259253</td>\n",
       "      <td>COOPERATIVA E ECONOMIA E CRÉDITO MÚTUO DOS MÉD...</td>\n",
       "      <td>CECM MÉDICOS PLANALTO MÉDIO RS - CREDISIS/CRED...</td>\n",
       "      <td>PDCT</td>\n",
       "      <td>IDRT</td>\n",
       "      <td>2021-10-04</td>\n",
       "      <td>202110</td>\n",
       "    </tr>\n",
       "    <tr>\n",
       "      <th>825</th>\n",
       "      <td>97489280</td>\n",
       "      <td>COOPERATIVA DE CRÉDITO, POUPANÇA E INVESTIMENT...</td>\n",
       "      <td>COOP SICREDI INTEGRAÇÃO BAHIA</td>\n",
       "      <td>PDCT</td>\n",
       "      <td>IDRT</td>\n",
       "      <td>2020-11-03</td>\n",
       "      <td>202011</td>\n",
       "    </tr>\n",
       "  </tbody>\n",
       "</table>\n",
       "<p>826 rows × 7 columns</p>\n",
       "</div>"
      ],
      "text/plain": [
       "         ispb                                               nome  \\\n",
       "0    00000000                               BANCO DO BRASIL S.A.   \n",
       "1    00000208                       BRB - BANCO DE BRASILIA S.A.   \n",
       "2    00068987  COOPERATIVA DE CRÉDITO ARACREDI LTDA. - SICOOB...   \n",
       "3    00075847  COOPERATIVA DE CRÉDITO UNICRED CENTRO-SUL LTDA...   \n",
       "4    00106180  CENTRAL DAS COOPERATIVAS DE CRÉDITO DOS ESTADO...   \n",
       "..        ...                                                ...   \n",
       "821  95213211  COOPERATIVA DE CRÉDITO, POUPANÇA E INVESTIMENT...   \n",
       "822  95424891  COOPERATIVA DE CRÉDITO, POUPANÇA E INVESTIMENT...   \n",
       "823  95594941  COOPERATIVA DE CRÉDITO, POUPANÇA E INVESTIMENT...   \n",
       "824  97259253  COOPERATIVA E ECONOMIA E CRÉDITO MÚTUO DOS MÉD...   \n",
       "825  97489280  COOPERATIVA DE CRÉDITO, POUPANÇA E INVESTIMENT...   \n",
       "\n",
       "                                         nome_reduzido  \\\n",
       "0                                   BCO DO BRASIL S.A.   \n",
       "1                           BRB - BCO DE BRASILIA S.A.   \n",
       "2                                    CC ARACREDI LTDA.   \n",
       "3      CC UNICRED CENTRO-SUL LTDA - UNICRED CENTRO-SUL   \n",
       "4             CCC DOS EST DE MT, MS E MUN DE CACOAL/RO   \n",
       "..                                                 ...   \n",
       "821                  COOP SICREDI CAMINHO DAS ÁGUAS RS   \n",
       "822                     COOP SICREDI VALE DO RIO PARDO   \n",
       "823                      COOP SICREDI REG CENTRO RS/MG   \n",
       "824  CECM MÉDICOS PLANALTO MÉDIO RS - CREDISIS/CRED...   \n",
       "825                      COOP SICREDI INTEGRAÇÃO BAHIA   \n",
       "\n",
       "    modalidade_participacao tipo_participacao inicio_operacao mes_operacao  \n",
       "0                      PDCT              DRCT      2020-11-03       202011  \n",
       "1                      PDCT              DRCT      2020-11-03       202011  \n",
       "2                      PDCT              IDRT      2020-11-03       202011  \n",
       "3                      PDCT              IDRT      2020-11-03       202011  \n",
       "4                      PDCT              IDRT      2020-11-03       202011  \n",
       "..                      ...               ...             ...          ...  \n",
       "821                    PDCT              IDRT      2020-11-03       202011  \n",
       "822                    PDCT              IDRT      2020-11-03       202011  \n",
       "823                    PDCT              IDRT      2020-11-03       202011  \n",
       "824                    PDCT              IDRT      2021-10-04       202110  \n",
       "825                    PDCT              IDRT      2020-11-03       202011  \n",
       "\n",
       "[826 rows x 7 columns]"
      ]
     },
     "execution_count": 173,
     "metadata": {},
     "output_type": "execute_result"
    }
   ],
   "source": [
    "carrega_bd(\"pix\")"
   ]
  },
  {
   "cell_type": "markdown",
   "metadata": {},
   "source": [
    "### 5 Visualização\n",
    "##### 5.1 Barras: Tipo de participação por Banco"
   ]
  },
  {
   "cell_type": "code",
   "execution_count": 174,
   "metadata": {},
   "outputs": [
    {
     "data": {
      "text/html": [
       "<div>\n",
       "<style scoped>\n",
       "    .dataframe tbody tr th:only-of-type {\n",
       "        vertical-align: middle;\n",
       "    }\n",
       "\n",
       "    .dataframe tbody tr th {\n",
       "        vertical-align: top;\n",
       "    }\n",
       "\n",
       "    .dataframe thead th {\n",
       "        text-align: right;\n",
       "    }\n",
       "</style>\n",
       "<table border=\"1\" class=\"dataframe\">\n",
       "  <thead>\n",
       "    <tr style=\"text-align: right;\">\n",
       "      <th></th>\n",
       "      <th>ispb</th>\n",
       "      <th>name</th>\n",
       "      <th>code</th>\n",
       "      <th>fullName</th>\n",
       "      <th>nome</th>\n",
       "      <th>nome_reduzido</th>\n",
       "      <th>modalidade_participacao</th>\n",
       "      <th>tipo_participacao</th>\n",
       "      <th>inicio_operacao</th>\n",
       "      <th>mes_operacao</th>\n",
       "    </tr>\n",
       "  </thead>\n",
       "  <tbody>\n",
       "    <tr>\n",
       "      <th>34</th>\n",
       "      <td>05351887</td>\n",
       "      <td>ZEMA CFI S/A</td>\n",
       "      <td>359.0</td>\n",
       "      <td>ZEMA CRÉDITO, FINANCIAMENTO E INVESTIMENTO S/A</td>\n",
       "      <td>ZEMA CRÉDITO, FINANCIAMENTO E INVESTIMENTO S/A</td>\n",
       "      <td>ZEMA CFI S/A</td>\n",
       "      <td>PDCT</td>\n",
       "      <td>DRCT</td>\n",
       "      <td>2023-01-23</td>\n",
       "      <td>202301</td>\n",
       "    </tr>\n",
       "    <tr>\n",
       "      <th>86</th>\n",
       "      <td>23862762</td>\n",
       "      <td>WILL FINANCEIRA S.A.CFI</td>\n",
       "      <td>280.0</td>\n",
       "      <td>WILL FINANCEIRA S.A. CRÉDITO, FINANCIAMENTO E ...</td>\n",
       "      <td>WILL FINANCEIRA S.A. CRÉDITO, FINANCIAMENTO E ...</td>\n",
       "      <td>WILL FINANCEIRA S.A.CFI</td>\n",
       "      <td>LESP</td>\n",
       "      <td>DRCT</td>\n",
       "      <td>2024-03-19</td>\n",
       "      <td>202403</td>\n",
       "    </tr>\n",
       "    <tr>\n",
       "      <th>84</th>\n",
       "      <td>22610500</td>\n",
       "      <td>VORTX DTVM LTDA.</td>\n",
       "      <td>310.0</td>\n",
       "      <td>VORTX DISTRIBUIDORA DE TITULOS E VALORES MOBIL...</td>\n",
       "      <td>VORTX DISTRIBUIDORA DE TITULOS E VALORES MOBIL...</td>\n",
       "      <td>VORTX DTVM LTDA.</td>\n",
       "      <td>PDCT</td>\n",
       "      <td>DRCT</td>\n",
       "      <td>2023-03-08</td>\n",
       "      <td>202303</td>\n",
       "    </tr>\n",
       "    <tr>\n",
       "      <th>115</th>\n",
       "      <td>39587424</td>\n",
       "      <td>UY3 SCD S/A</td>\n",
       "      <td>457.0</td>\n",
       "      <td>UY3 SOCIEDADE DE CRÉDITO DIRETO S/A</td>\n",
       "      <td>UY3 SOCIEDADE DE CRÉDITO DIRETO S/A</td>\n",
       "      <td>UY3 SCD S/A</td>\n",
       "      <td>PDCT</td>\n",
       "      <td>IDRT</td>\n",
       "      <td>2023-04-17</td>\n",
       "      <td>202304</td>\n",
       "    </tr>\n",
       "    <tr>\n",
       "      <th>106</th>\n",
       "      <td>35977097</td>\n",
       "      <td>UP.P SEP S.A.</td>\n",
       "      <td>373.0</td>\n",
       "      <td>UP.P SOCIEDADE DE EMPRÉSTIMO ENTRE PESSOAS S.A.</td>\n",
       "      <td>UP.P SOCIEDADE DE EMPRÉSTIMO ENTRE PESSOAS S.A.</td>\n",
       "      <td>UP.P SEP S.A.</td>\n",
       "      <td>PDCT</td>\n",
       "      <td>DRCT</td>\n",
       "      <td>2024-04-04</td>\n",
       "      <td>202404</td>\n",
       "    </tr>\n",
       "  </tbody>\n",
       "</table>\n",
       "</div>"
      ],
      "text/plain": [
       "         ispb                     name   code  \\\n",
       "34   05351887             ZEMA CFI S/A  359.0   \n",
       "86   23862762  WILL FINANCEIRA S.A.CFI  280.0   \n",
       "84   22610500         VORTX DTVM LTDA.  310.0   \n",
       "115  39587424              UY3 SCD S/A  457.0   \n",
       "106  35977097            UP.P SEP S.A.  373.0   \n",
       "\n",
       "                                              fullName  \\\n",
       "34      ZEMA CRÉDITO, FINANCIAMENTO E INVESTIMENTO S/A   \n",
       "86   WILL FINANCEIRA S.A. CRÉDITO, FINANCIAMENTO E ...   \n",
       "84   VORTX DISTRIBUIDORA DE TITULOS E VALORES MOBIL...   \n",
       "115                UY3 SOCIEDADE DE CRÉDITO DIRETO S/A   \n",
       "106    UP.P SOCIEDADE DE EMPRÉSTIMO ENTRE PESSOAS S.A.   \n",
       "\n",
       "                                                  nome  \\\n",
       "34      ZEMA CRÉDITO, FINANCIAMENTO E INVESTIMENTO S/A   \n",
       "86   WILL FINANCEIRA S.A. CRÉDITO, FINANCIAMENTO E ...   \n",
       "84   VORTX DISTRIBUIDORA DE TITULOS E VALORES MOBIL...   \n",
       "115                UY3 SOCIEDADE DE CRÉDITO DIRETO S/A   \n",
       "106    UP.P SOCIEDADE DE EMPRÉSTIMO ENTRE PESSOAS S.A.   \n",
       "\n",
       "               nome_reduzido modalidade_participacao tipo_participacao  \\\n",
       "34              ZEMA CFI S/A                    PDCT              DRCT   \n",
       "86   WILL FINANCEIRA S.A.CFI                    LESP              DRCT   \n",
       "84          VORTX DTVM LTDA.                    PDCT              DRCT   \n",
       "115              UY3 SCD S/A                    PDCT              IDRT   \n",
       "106            UP.P SEP S.A.                    PDCT              DRCT   \n",
       "\n",
       "    inicio_operacao mes_operacao  \n",
       "34       2023-01-23       202301  \n",
       "86       2024-03-19       202403  \n",
       "84       2023-03-08       202303  \n",
       "115      2023-04-17       202304  \n",
       "106      2024-04-04       202404  "
      ]
     },
     "execution_count": 174,
     "metadata": {},
     "output_type": "execute_result"
    }
   ],
   "source": [
    "\n",
    "pix = carrega_bd(\"pix\")\n",
    "bancos = carrega_bd(\"bancos\")\n",
    "\n",
    "transacao = bancos.merge(pix,on='ispb',how='inner')\n",
    "transacao = transacao.loc[transacao['inicio_operacao'] >= '2023-01-01']\n",
    "transacao.sort_values('nome', ascending=False).head()"
   ]
  },
  {
   "cell_type": "code",
   "execution_count": 175,
   "metadata": {},
   "outputs": [
    {
     "data": {
      "text/plain": [
       "Text(0, 0.5, 'Transações')"
      ]
     },
     "execution_count": 175,
     "metadata": {},
     "output_type": "execute_result"
    },
    {
     "data": {
      "image/png": "[encoded data removed]",
      "text/plain": [
       "<Figure size 640x480 with 1 Axes>"
      ]
     },
     "metadata": {},
     "output_type": "display_data"
    }
   ],
   "source": [
    "Transacao_agg = transacao.groupby('mes_operacao')['nome_reduzido'].count().reset_index()\n",
    "\n",
    "#barras\n",
    "plt.bar(Transacao_agg['mes_operacao'], Transacao_agg['nome_reduzido'],  color='purple')\n",
    "plt.xticks(rotation=90)\n",
    "plt.title(\"Transações de pix por mês\")\n",
    "plt.xlabel(\"Mês\")\n",
    "plt.ylabel(\"Transações\")"
   ]
  },
  {
   "cell_type": "code",
   "execution_count": 176,
   "metadata": {},
   "outputs": [
    {
     "data": {
      "text/plain": [
       "Text(0, 0.5, 'Quantidade')"
      ]
     },
     "execution_count": 176,
     "metadata": {},
     "output_type": "execute_result"
    },
    {
     "data": {
      "image/png": "[encoded data removed]",
      "text/plain": [
       "<Figure size 640x480 with 1 Axes>"
      ]
     },
     "metadata": {},
     "output_type": "display_data"
    }
   ],
   "source": [
    "Transacao_agg_modal = transacao.groupby('modalidade_participacao')['nome_reduzido'].count().reset_index()\n",
    "#barras\n",
    "plt.bar(Transacao_agg_modal['modalidade_participacao'], Transacao_agg_modal['nome_reduzido'],  color='purple')\n",
    "plt.xticks(rotation=90)\n",
    "plt.title(\"Modalidade do pix\")\n",
    "plt.xlabel(\"Modalidade\")\n",
    "plt.ylabel(\"Quantidade\")"
   ]
  },
  {
   "cell_type": "markdown",
   "metadata": {},
   "source": [
    "##### 5.2 Histograma"
   ]
  },
  {
   "cell_type": "code",
   "execution_count": 177,
   "metadata": {},
   "outputs": [
    {
     "data": {
      "text/plain": [
       "Text(0.5, 1.0, 'Histograma')"
      ]
     },
     "execution_count": 177,
     "metadata": {},
     "output_type": "execute_result"
    },
    {
     "data": {
      "image/png": "[encoded data removed]",
      "text/plain": [
       "<Figure size 1000x800 with 1 Axes>"
      ]
     },
     "metadata": {},
     "output_type": "display_data"
    }
   ],
   "source": [
    "#histograma\n",
    "plt.figure(figsize=[10,8])\n",
    "n, bins, patches = plt.hist(Transacao_agg['mes_operacao'], bins=6, color='purple',alpha=0.7, rwidth=0.85)\n",
    "plt.grid(axis='y', alpha=0.75)\n",
    "plt.xlabel('Código',fontsize=12)\n",
    "plt.ylabel('Frequência',fontsize=12)\n",
    "plt.xticks(fontsize=15)\n",
    "plt.yticks(fontsize=15)\n",
    "plt.ylabel('Frequência',fontsize=12)\n",
    "plt.title('Histograma',fontsize=12)"
   ]
  },
  {
   "cell_type": "markdown",
   "metadata": {},
   "source": [
    "##### 5.3 Histograma"
   ]
  },
  {
   "cell_type": "code",
   "execution_count": 178,
   "metadata": {},
   "outputs": [
    {
     "data": {
      "text/plain": [
       "<seaborn.axisgrid.FacetGrid at 0x2980b422a80>"
      ]
     },
     "execution_count": 178,
     "metadata": {},
     "output_type": "execute_result"
    },
    {
     "data": {
      "image/png": "[encoded data removed]",
      "text/plain": [
       "<Figure size 500x500 with 1 Axes>"
      ]
     },
     "metadata": {},
     "output_type": "display_data"
    }
   ],
   "source": [
    "sns.displot(transacao['mes_operacao'], kde=True, color='purple')"
   ]
  },
  {
   "cell_type": "markdown",
   "metadata": {},
   "source": [
    "##### 5.4 Distribuição"
   ]
  },
  {
   "cell_type": "code",
   "execution_count": 179,
   "metadata": {},
   "outputs": [
    {
     "data": {
      "image/png": "[encoded data removed]",
      "text/plain": [
       "<Figure size 640x480 with 1 Axes>"
      ]
     },
     "metadata": {},
     "output_type": "display_data"
    }
   ],
   "source": [
    "# Plotar scatter plot\n",
    "sns.scatterplot(x='mes_operacao', y='nome_reduzido', data=transacao)\n",
    "plt.show()"
   ]
  }
 ],
 "metadata": {
  "kernelspec": {
   "display_name": "Python 3",
   "language": "python",
   "name": "python3"
  },
  "language_info": {
   "codemirror_mode": {
    "name": "ipython",
    "version": 3
   },
   "file_extension": ".py",
   "mimetype": "text/x-python",
   "name": "python",
   "nbconvert_exporter": "python",
   "pygments_lexer": "ipython3",
   "version": "3.12.0"
  }
 },
 "nbformat": 4,
 "nbformat_minor": 2
}
