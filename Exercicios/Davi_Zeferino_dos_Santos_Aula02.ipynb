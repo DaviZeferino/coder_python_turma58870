{
 "cells": [
  {
   "cell_type": "markdown",
   "metadata": {},
   "source": [
    "### Desafio"
   ]
  },
  {
   "cell_type": "code",
   "execution_count": null,
   "metadata": {},
   "outputs": [],
   "source": [
    "#IMC\n",
    "\n",
    "peso = float(input(f'Vamos clacular seu IMC. \\n digite seu peso:'))\n",
    "altura = float(input(f'agora, digite sua altura:'))\n",
    "imc = peso / (altura * altura)\n",
    "print(f'seu imc é: \\n{imc}')"
   ]
  },
  {
   "cell_type": "code",
   "execution_count": null,
   "metadata": {},
   "outputs": [],
   "source": [
    "#Lista vazia de inteiros\n",
    "\n",
    "lista = []\n",
    "\n",
    "i = 0\n",
    "while i < 5:\n",
    "    valor = input(f'Digite números')\n",
    "    if valor.isnumeric() == True:\n",
    "        lista.append(valor)\n",
    "    else:\n",
    "        print('Digite um número!')\n",
    "        i = i-1\n",
    "    i = i+1\n",
    "print(f'lista de intteiros: {lista}')"
   ]
  },
  {
   "cell_type": "code",
   "execution_count": null,
   "metadata": {},
   "outputs": [],
   "source": [
    "#lista de nomes\n",
    "\n",
    "valor = input(f'Digite uma lista de nomes separados por virgula:')\n",
    "\n",
    "lista = valor.split()\n",
    "\n",
    "print(lista)"
   ]
  }
 ],
 "metadata": {
  "kernelspec": {
   "display_name": "Python 3",
   "language": "python",
   "name": "python3"
  },
  "language_info": {
   "name": "python",
   "version": "3.12.1"
  }
 },
 "nbformat": 4,
 "nbformat_minor": 2
}
