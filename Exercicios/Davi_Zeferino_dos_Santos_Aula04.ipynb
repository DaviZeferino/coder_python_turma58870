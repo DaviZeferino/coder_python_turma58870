{
 "cells": [
  {
   "cell_type": "markdown",
   "metadata": {},
   "source": [
    "### Exercícios"
   ]
  },
  {
   "cell_type": "code",
   "execution_count": 2,
   "metadata": {},
   "outputs": [
    {
     "name": "stdout",
     "output_type": "stream",
     "text": [
      "O valor 10 é multiplo de dez\n"
     ]
    }
   ],
   "source": [
    "#Lambda\n",
    "multiplo_dez = lambda valor: valor % 10 == 0\n",
    "\n",
    "valor = int(input(f'digite um valor para verificar se é multiplo de 10'))\n",
    "\n",
    "if multiplo_dez(valor):\n",
    "    print(f'O valor {valor} é multiplo de dez')\n",
    "else:\n",
    "    print(f'O valor {valor} não é multiplo de dez')"
   ]
  },
  {
   "cell_type": "code",
   "execution_count": 3,
   "metadata": {},
   "outputs": [
    {
     "name": "stdout",
     "output_type": "stream",
     "text": [
      "O fatorial de 10 é: 120\n"
     ]
    }
   ],
   "source": [
    "#fatorial\n",
    "def fatorial(valor):\n",
    "    resultado = 1\n",
    "    for i in range(1, valor + 1):\n",
    "        resultado *= i\n",
    "    return resultado\n",
    "\n",
    "fat = fatorial(int(input(\"Digite um número inteiro para calcular o fatorial: \")))\n",
    "\n",
    "print(f\"O fatorial de {valor} é: {fat}\")\n"
   ]
  },
  {
   "cell_type": "code",
   "execution_count": 4,
   "metadata": {},
   "outputs": [
    {
     "name": "stdout",
     "output_type": "stream",
     "text": [
      "['João', 'Maria', 'Ana', 'Ana']\n"
     ]
    }
   ],
   "source": [
    "#nomes\n",
    "def primeiro_nome (nome_completo):\n",
    "    return nome_completo.split()[0] \n",
    "\n",
    "nomes = [\"João Carlos\", \"Maria Eduarda\", \"Ana Rute\", \"Ana Clara\"]\n",
    "\n",
    "lista = list(map(primeiro_nome, nomes))\n",
    "\n",
    "print(lista)"
   ]
  },
  {
   "cell_type": "code",
   "execution_count": null,
   "metadata": {},
   "outputs": [],
   "source": [
    "#data\n",
    "from datetime import date, datetime  \n",
    "\n",
    "def dia_semana(data):\n",
    "    x = datetime.strptime(data, '%d/%m/%Y')\n",
    "    y = x.strftime('%A')\n",
    "    return y\n",
    "\n",
    "print(dia_semana(date.today().strftime('%d/%m/%Y')))"
   ]
  }
 ],
 "metadata": {
  "kernelspec": {
   "display_name": "Python 3",
   "language": "python",
   "name": "python3"
  },
  "language_info": {
   "codemirror_mode": {
    "name": "ipython",
    "version": 3
   },
   "file_extension": ".py",
   "mimetype": "text/x-python",
   "name": "python",
   "nbconvert_exporter": "python",
   "pygments_lexer": "ipython3",
   "version": "3.12.1"
  }
 },
 "nbformat": 4,
 "nbformat_minor": 2
}
