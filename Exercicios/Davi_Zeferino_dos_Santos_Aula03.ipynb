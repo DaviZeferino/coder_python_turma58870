{
 "cells": [
  {
   "cell_type": "markdown",
   "metadata": {},
   "source": [
    "### Desafio - aula 03"
   ]
  },
  {
   "cell_type": "code",
   "execution_count": 23,
   "metadata": {},
   "outputs": [
    {
     "ename": "ValueError",
     "evalue": "invalid literal for int() with base 10: 'e'",
     "output_type": "error",
     "traceback": [
      "\u001b[1;31m---------------------------------------------------------------------------\u001b[0m",
      "\u001b[1;31mValueError\u001b[0m                                Traceback (most recent call last)",
      "Cell \u001b[1;32mIn[23], line 1\u001b[0m\n\u001b[1;32m----> 1\u001b[0m valor \u001b[38;5;241m=\u001b[39m \u001b[38;5;28;43mint\u001b[39;49m\u001b[43m(\u001b[49m\u001b[38;5;28;43minput\u001b[39;49m\u001b[43m(\u001b[49m\u001b[38;5;124;43mf\u001b[39;49m\u001b[38;5;124;43m'\u001b[39;49m\u001b[38;5;124;43mDigite um número inteiro\u001b[39;49m\u001b[38;5;124;43m'\u001b[39;49m\u001b[43m)\u001b[49m\u001b[43m)\u001b[49m\n\u001b[0;32m      2\u001b[0m \u001b[38;5;28mtype\u001b[39m(valor)\n",
      "\u001b[1;31mValueError\u001b[0m: invalid literal for int() with base 10: 'e'"
     ]
    }
   ],
   "source": [
    "valor = int(input(f'Digite um número inteiro'))\n",
    "type(valor)"
   ]
  },
  {
   "cell_type": "code",
   "execution_count": 54,
   "metadata": {},
   "outputs": [
    {
     "name": "stdout",
     "output_type": "stream",
     "text": [
      "O número que você digitou é impar:  55\n"
     ]
    }
   ],
   "source": [
    "#número inteiro\n",
    "valor = int(input(f'Digite um número inteiro'))\n",
    "    \n",
    "if (valor % 2) == 0:\n",
    "    print(f'O número que você digitou é par:  {valor}')\n",
    "else:\n",
    "    print(f'O número que você digitou é impar:  {valor}') "
   ]
  },
  {
   "cell_type": "code",
   "execution_count": 67,
   "metadata": {},
   "outputs": [
    {
     "name": "stdout",
     "output_type": "stream",
     "text": [
      "palavra: t, caractere número: 1\n",
      "palavra: e, caractere número: 2\n",
      "palavra: s, caractere número: 3\n",
      "palavra: t, caractere número: 4\n",
      "palavra: e, caractere número: 5\n",
      "palavra:  , caractere número: 6\n",
      "palavra: d, caractere número: 7\n",
      "palavra: o, caractere número: 8\n",
      "palavra:  , caractere número: 9\n",
      "palavra: f, caractere número: 10\n",
      "palavra: o, caractere número: 11\n",
      "palavra: r, caractere número: 12\n"
     ]
    }
   ],
   "source": [
    "#frase\n",
    "frase = input(f'Digite uma frase')\n",
    "\n",
    "x = 1\n",
    "y = int(len(frase))\n",
    "\n",
    "for i in frase:\n",
    "    print(f'palavra: {i}, caractere número: {x}')\n",
    "    x=x+1\n",
    "        "
   ]
  },
  {
   "cell_type": "code",
   "execution_count": 9,
   "metadata": {},
   "outputs": [
    {
     "name": "stdout",
     "output_type": "stream",
     "text": [
      "Senha incorreta!\n",
      "Senha incorreta!\n",
      "Senha incorreta!\n",
      "Senha incorreta!\n"
     ]
    }
   ],
   "source": [
    "#senha\n",
    "while int(input(f'Digite a senha: ')) != 1234:\n",
    "    print('Senha incorreta!')\n",
    "    continue"
   ]
  },
  {
   "cell_type": "code",
   "execution_count": 13,
   "metadata": {},
   "outputs": [
    {
     "name": "stdout",
     "output_type": "stream",
     "text": [
      "O fatorial do número 3 é 6\n"
     ]
    }
   ],
   "source": [
    "#fatorial\n",
    "valor = int(input(f'Digite um valor: '))\n",
    "fat = 1\n",
    "i = 2\n",
    "\n",
    "while i <= valor:\n",
    "    fat = fat*i\n",
    "    i = i + 1\n",
    "\n",
    "print(f'O fatorial do número {valor} é {fat}') "
   ]
  },
  {
   "cell_type": "code",
   "execution_count": 25,
   "metadata": {},
   "outputs": [
    {
     "name": "stdout",
     "output_type": "stream",
     "text": [
      "Janeiro: 232\n",
      "Fevereiro: 321\n",
      "Junho: 589\n",
      "Julho: 547\n"
     ]
    }
   ],
   "source": [
    "#Dicionário\n",
    "dicionario = {'Janeiro': 232, 'Fevereiro': 321, 'Junho': 589, 'Julho': 547}\n",
    "\n",
    "for mes, valor in dicionario.items():\n",
    "    print(f'{mes}: {valor}')\n"
   ]
  }
 ],
 "metadata": {
  "kernelspec": {
   "display_name": "Python 3",
   "language": "python",
   "name": "python3"
  },
  "language_info": {
   "codemirror_mode": {
    "name": "ipython",
    "version": 3
   },
   "file_extension": ".py",
   "mimetype": "text/x-python",
   "name": "python",
   "nbconvert_exporter": "python",
   "pygments_lexer": "ipython3",
   "version": "3.12.1"
  }
 },
 "nbformat": 4,
 "nbformat_minor": 2
}
