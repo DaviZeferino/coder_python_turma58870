{
 "cells": [
  {
   "cell_type": "markdown",
   "metadata": {},
   "source": [
    "### Exercícios"
   ]
  },
  {
   "cell_type": "code",
   "execution_count": null,
   "metadata": {},
   "outputs": [],
   "source": [
    "#Classe retângulo\n",
    "class Retangulo:\n",
    "    def __init__(self, base, altura):\n",
    "        #Atributos\n",
    "        self.base   = base\n",
    "        self.altura = altura \n",
    "    #método\n",
    "    def area(self):\n",
    "        return self.base * self.altura \n",
    "    #método\n",
    "    def perimetro(self):\n",
    "        return self.base + 2 * self.altura\n",
    "\n",
    "alt = float(input('Digite a altura'))\n",
    "bas = float(input('Digite a base'))\n",
    "\n",
    "#objeto\n",
    "calcula = Retangulo(bas,alt)\n",
    "a = calcula.area()\n",
    "p = calcula.perimetro()\n",
    "\n",
    "print(f'Para a altura {alt} e base {bas}, a área é {a} e o perímetro é {p}')"
   ]
  },
  {
   "cell_type": "code",
   "execution_count": 15,
   "metadata": {},
   "outputs": [
    {
     "name": "stdout",
     "output_type": "stream",
     "text": [
      "200\n",
      "50\n"
     ]
    }
   ],
   "source": [
    "#import\n",
    "import Geomatria as geo \n",
    "\n",
    "area = geo.Retangulo(10,20)\n",
    "area.area()\n",
    "area.perimetro()\n",
    "\n",
    "print(area.area())\n",
    "print(area.perimetro())\n"
   ]
  },
  {
   "cell_type": "code",
   "execution_count": null,
   "metadata": {},
   "outputs": [],
   "source": [
    "#Classe Conta\n",
    "class Conta:\n",
    "    def __init__(self, saldo, titular):\n",
    "        #Atributos\n",
    "        self.saldo   = saldo\n",
    "        self.titular = titular\n",
    " \n",
    "    #método\n",
    "    def depositar(self):\n",
    "        valor = float(input('Digite o valor do depósito'))\n",
    "        return self.saldo +  valor\n",
    "         \n",
    "    #método\n",
    "    def sacar(self):\n",
    "        valor = float(input('Digite o valor do saque'))\n",
    "        return self.saldo -  valor\n",
    "\n",
    "\n",
    "#objeto\n",
    "banco = Conta(1000.0, 'José')\n",
    "banco.saldo\n",
    "saldo.depositar()\n",
    "saldo.sacar()"
   ]
  }
 ],
 "metadata": {
  "kernelspec": {
   "display_name": "Python 3",
   "language": "python",
   "name": "python3"
  },
  "language_info": {
   "codemirror_mode": {
    "name": "ipython",
    "version": 3
   },
   "file_extension": ".py",
   "mimetype": "text/x-python",
   "name": "python",
   "nbconvert_exporter": "python",
   "pygments_lexer": "ipython3",
   "version": "3.12.1"
  }
 },
 "nbformat": 4,
 "nbformat_minor": 2
}
