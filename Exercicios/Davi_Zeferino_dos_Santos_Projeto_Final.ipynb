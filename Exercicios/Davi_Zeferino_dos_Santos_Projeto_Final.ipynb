{
 "cells": [
  {
   "cell_type": "markdown",
   "metadata": {},
   "source": [
    "### Projeto Final"
   ]
  },
  {
   "cell_type": "markdown",
   "metadata": {},
   "source": [
    "### Alerta"
   ]
  },
  {
   "cell_type": "code",
   "execution_count": 1,
   "metadata": {},
   "outputs": [],
   "source": [
    "#!pip install plyer\n",
    "from plyer import notification\n",
    "\n",
    "def alerta(nivel, base, etapa):\n",
    "    if nivel == 1:\n",
    "        Nivel = 'Alerta Baixo'\n",
    "        etapa = 'Extração'\n",
    "\n",
    "    if nivel == 2:\n",
    "        Nivel = 'Alerta Médio'\n",
    "        etapa = 'Normalização'\n",
    "\n",
    "    if nivel == 3:\n",
    "        Nivel = 'Alerta Alto'\n",
    "        etapa = 'Regras'\n",
    "    \n",
    "    notification.notify(title = f'ATENÇÃO: {Nivel}', \n",
    "                message = f'Falha no carregamento da base  base de dados \"{base}\" \\n etapa \"{etapa}\"', \n",
    "                app_name = 'Teste',\n",
    "                timeout = 10)\n",
    "    \n",
    "alerta(3, 'Clientes', '3')"
   ]
  }
 ],
 "metadata": {
  "kernelspec": {
   "display_name": "Python 3",
   "language": "python",
   "name": "python3"
  },
  "language_info": {
   "codemirror_mode": {
    "name": "ipython",
    "version": 3
   },
   "file_extension": ".py",
   "mimetype": "text/x-python",
   "name": "python",
   "nbconvert_exporter": "python",
   "pygments_lexer": "ipython3",
   "version": "3.12.1"
  }
 },
 "nbformat": 4,
 "nbformat_minor": 2
}
